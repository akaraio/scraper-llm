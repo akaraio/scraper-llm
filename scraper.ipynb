{
 "cells": [
  {
   "cell_type": "code",
   "execution_count": null,
   "metadata": {},
   "outputs": [],
   "source": [
    "import warnings\n",
    "warnings.filterwarnings(\"ignore\")"
   ]
  },
  {
   "cell_type": "code",
   "execution_count": null,
   "metadata": {},
   "outputs": [],
   "source": [
    "import os\n",
    "from dotenv import load_dotenv\n",
    "load_dotenv()"
   ]
  },
  {
   "cell_type": "code",
   "execution_count": null,
   "metadata": {},
   "outputs": [],
   "source": [
    "from bs4 import BeautifulSoup\n",
    "from selenium import webdriver\n",
    "from selenium.webdriver.common.by import By"
   ]
  },
  {
   "cell_type": "code",
   "execution_count": null,
   "metadata": {},
   "outputs": [],
   "source": [
    "driver = webdriver.Chrome()"
   ]
  },
  {
   "cell_type": "code",
   "execution_count": null,
   "metadata": {},
   "outputs": [],
   "source": [
    "driver.get('data')"
   ]
  },
  {
   "cell_type": "code",
   "execution_count": null,
   "metadata": {},
   "outputs": [],
   "source": [
    "driver.title"
   ]
  },
  {
   "cell_type": "code",
   "execution_count": null,
   "metadata": {},
   "outputs": [],
   "source": [
    "email = driver.find_element(By.ID, 'username')\n",
    "email.send_keys(os.getenv('EMAIL'))"
   ]
  },
  {
   "cell_type": "code",
   "execution_count": null,
   "metadata": {},
   "outputs": [],
   "source": [
    "password = driver.find_element(By.ID, 'password')\n",
    "password.send_keys(os.getenv('PASSWORD'))"
   ]
  },
  {
   "cell_type": "code",
   "execution_count": null,
   "metadata": {},
   "outputs": [],
   "source": [
    "password.submit()"
   ]
  },
  {
   "cell_type": "code",
   "execution_count": null,
   "metadata": {},
   "outputs": [],
   "source": [
    "url = \"data\"\n",
    "\n",
    "driver.get(url)"
   ]
  },
  {
   "cell_type": "code",
   "execution_count": null,
   "metadata": {},
   "outputs": [],
   "source": [
    "page_source = driver.page_source"
   ]
  },
  {
   "cell_type": "code",
   "execution_count": null,
   "metadata": {},
   "outputs": [],
   "source": [
    "soup = BeautifulSoup(page_source, 'lxml')"
   ]
  },
  {
   "cell_type": "code",
   "execution_count": null,
   "metadata": {},
   "outputs": [],
   "source": [
    "# soup.get_text()"
   ]
  },
  {
   "cell_type": "code",
   "execution_count": null,
   "metadata": {},
   "outputs": [],
   "source": [
    "profile = soup.find('main', {'class': 'scaffold-layout__main'})"
   ]
  },
  {
   "cell_type": "code",
   "execution_count": null,
   "metadata": {},
   "outputs": [],
   "source": [
    "# print(profile.get_text())"
   ]
  },
  {
   "cell_type": "code",
   "execution_count": null,
   "metadata": {},
   "outputs": [],
   "source": [
    "sections = profile.find_all('section', {'class': 'artdeco-card'})"
   ]
  },
  {
   "cell_type": "code",
   "execution_count": null,
   "metadata": {},
   "outputs": [],
   "source": [
    "len(sections)"
   ]
  },
  {
   "cell_type": "code",
   "execution_count": null,
   "metadata": {},
   "outputs": [],
   "source": [
    "# sections"
   ]
  },
  {
   "cell_type": "code",
   "execution_count": null,
   "metadata": {},
   "outputs": [],
   "source": [
    "sections_text = [section.get_text() for section in sections]"
   ]
  },
  {
   "cell_type": "code",
   "execution_count": null,
   "metadata": {},
   "outputs": [],
   "source": [
    "import re\n",
    "\n",
    "def clean_text(text):\n",
    "    text = re.sub(r'\\n+', '\\n', text)\n",
    "    text = re.sub(r'\\t+', '\\t', text)\n",
    "    text = re.sub(r'\\t\\s+', ' ', text) \n",
    "    text = re.sub(r'\\n\\s+', '\\n', text)\n",
    "    return text"
   ]
  },
  {
   "cell_type": "code",
   "execution_count": null,
   "metadata": {},
   "outputs": [],
   "source": [
    "sections_text = [clean_text(section) for section in sections_text]"
   ]
  },
  {
   "cell_type": "code",
   "execution_count": null,
   "metadata": {},
   "outputs": [],
   "source": [
    "def remove_duplicates(text):\n",
    "    lines = text.split('\\n')\n",
    "    new_lines = []\n",
    "    for line in lines:\n",
    "        if line[:len(line)//2] == line[len(line)//2:]:\n",
    "            new_lines.append(line[:len(line)//2])\n",
    "        else:\n",
    "            new_lines.append(line)\n",
    "\n",
    "    return '\\n'.join(new_lines)"
   ]
  },
  {
   "cell_type": "code",
   "execution_count": null,
   "metadata": {},
   "outputs": [],
   "source": [
    "sections_text = [remove_duplicates(section) for section in sections_text]"
   ]
  },
  {
   "cell_type": "code",
   "execution_count": null,
   "metadata": {},
   "outputs": [],
   "source": [
    "print(sections_text[1])"
   ]
  },
  {
   "cell_type": "code",
   "execution_count": null,
   "metadata": {},
   "outputs": [],
   "source": [
    "sections_text"
   ]
  },
  {
   "cell_type": "code",
   "execution_count": null,
   "metadata": {},
   "outputs": [],
   "source": [
    "from langchain_ollama import ChatOllama\n",
    "\n",
    "from langchain_core.prompts import (SystemMessagePromptTemplate, \n",
    "                                    HumanMessagePromptTemplate,\n",
    "                                    ChatPromptTemplate)\n",
    "\n",
    "\n",
    "\n",
    "from langchain_core.output_parsers import StrOutputParser\n",
    "\n",
    "base_url = \"http://localhost:11434\"\n",
    "# model = 'data'\n",
    "model = \"data\"\n",
    "\n",
    "llm = ChatOllama(base_url=base_url, model=model)\n",
    "\n",
    "\n",
    "system = SystemMessagePromptTemplate.from_template(\"\"\"You are helpful AI assistant who answer data profile parsing related \n",
    "                                                    user question based on the provided profile text data.\"\"\")\n",
    "\n",
    "def ask_llm(prompt):\n",
    "    prompt = HumanMessagePromptTemplate.from_template(prompt)\n",
    "\n",
    "    messages = [system, prompt]\n",
    "    template = ChatPromptTemplate(messages)\n",
    "\n",
    "    qna_chain = template | llm | StrOutputParser()\n",
    "\n",
    "    return qna_chain.invoke({})"
   ]
  },
  {
   "cell_type": "code",
   "execution_count": null,
   "metadata": {},
   "outputs": [],
   "source": [
    "llm"
   ]
  },
  {
   "cell_type": "code",
   "execution_count": null,
   "metadata": {},
   "outputs": [],
   "source": [
    "ask_llm(\"hello\")"
   ]
  },
  {
   "cell_type": "code",
   "execution_count": null,
   "metadata": {},
   "outputs": [],
   "source": [
    "template = \"\"\"\n",
    "Extract and return the requested information from the data profile data in a concise, point-by-point format (up to 5 points). Avoid preambles or any additional context.\n",
    "\n",
    "### data Profile Data:\n",
    "{}\n",
    "\n",
    "### Information to Extract:\n",
    "Extract '{}' in bullet points, limiting the output to 5 points. Provide only the necessary details.\n",
    "Remember, It is data profile data.\n",
    "\n",
    "### Extracted Data:\"\"\"\n",
    "\n",
    "context = sections_text[0]\n",
    "k = \"Name and Headline\"\n",
    "\n",
    "prompt = template.format(context, k)\n",
    "response = ask_llm(prompt)"
   ]
  },
  {
   "cell_type": "code",
   "execution_count": null,
   "metadata": {},
   "outputs": [],
   "source": [
    "print(response)"
   ]
  },
  {
   "cell_type": "code",
   "execution_count": null,
   "metadata": {},
   "outputs": [],
   "source": [
    "section_keys = ['Name and Headline']\n",
    "for section in sections_text[1:]:\n",
    "    # print(section.strip().split('\\n'))\n",
    "    section_keys.append(section.strip().split('\\n')[0])\n",
    "\n",
    "section_keys"
   ]
  },
  {
   "cell_type": "code",
   "execution_count": null,
   "metadata": {},
   "outputs": [],
   "source": [
    "responses = {}\n",
    "\n",
    "for k,context in zip(section_keys, sections_text):\n",
    "    prompt = template.format(context, k)\n",
    "    response = ask_llm(prompt=prompt)\n",
    "    responses[k] = response"
   ]
  },
  {
   "cell_type": "code",
   "execution_count": null,
   "metadata": {},
   "outputs": [],
   "source": [
    "print(responses)"
   ]
  },
  {
   "cell_type": "code",
   "execution_count": null,
   "metadata": {},
   "outputs": [],
   "source": [
    "import json\n",
    "\n",
    "with open('data', 'w') as f:\n",
    "    json.dump(responses, f, indent=4)"
   ]
  },
  {
   "cell_type": "code",
   "execution_count": null,
   "metadata": {},
   "outputs": [],
   "source": [
    "template = \"\"\"You are provided with LinkedIn profile data in JSON format.\n",
    "            Parse the data according to the specified schema, correct any spelling errors,\n",
    "            and condense the information if possible.\n",
    "\n",
    "### data Profile JSON Data:\n",
    "{context}\n",
    "\n",
    "### Schema You need to follow:\n",
    "You need to extract\n",
    "Name:\n",
    "Headline:\n",
    "About:\n",
    "Experience:\n",
    "Education:\n",
    "Skills:\n",
    "Projects:\n",
    "Summary:\n",
    "\n",
    "Do not return preambles or any other information.\n",
    "### Parsed Data:\"\"\"\n",
    "\n",
    "prompt = template.format(context=responses).replace(\"{\", \"{{\").replace(\"}\", \"}}\") \n",
    "response = ask_llm(prompt=prompt)\n",
    "# response"
   ]
  },
  {
   "cell_type": "code",
   "execution_count": null,
   "metadata": {},
   "outputs": [],
   "source": [
    "print(response)"
   ]
  }
 ],
 "metadata": {
  "kernelspec": {
   "display_name": "ml",
   "language": "python",
   "name": "python3"
  },
  "language_info": {
   "codemirror_mode": {
    "name": "ipython",
    "version": 3
   },
   "file_extension": ".py",
   "mimetype": "text/x-python",
   "name": "python",
   "nbconvert_exporter": "python",
   "pygments_lexer": "ipython3",
   "version": "3.12.4"
  }
 },
 "nbformat": 4,
 "nbformat_minor": 2
}
